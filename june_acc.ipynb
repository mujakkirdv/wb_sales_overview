{
 "cells": [
  {
   "cell_type": "code",
   "execution_count": 1,
   "id": "ce8b9388",
   "metadata": {},
   "outputs": [],
   "source": [
    "import pandas as pd\n",
    "import plotly.express as px\n",
    "\n",
    "workbook_path = r\"C:\\Users\\User\\Desktop\\Accounts\\2025\\JUNE\\sales_deposit_return\\june_sales_data.xlsx\"\n",
    "df = pd.read_excel(workbook_path)"
   ]
  },
  {
   "cell_type": "code",
   "execution_count": 2,
   "id": "195ac2d9",
   "metadata": {},
   "outputs": [
    {
     "name": "stdout",
     "output_type": "stream",
     "text": [
      "['date', 'order_no', 'customer_type', 'customer_name', 'sales_executive', 'open_value', 'sales_amount', 'sales_return', 'paid_amount', 'customer_cashback_on_paid_amount', 'sales_ex_commission', 'Zonal_officer_commission', 'gm_commission', 'company_profit', 'executive_commission', 'zonal_officer_commission', 'Order No']\n"
     ]
    }
   ],
   "source": [
    "# My workbook colmns names\n",
    "print(df.columns.tolist())"
   ]
  },
  {
   "cell_type": "code",
   "execution_count": 3,
   "id": "8f4c0e29",
   "metadata": {},
   "outputs": [
    {
     "name": "stdout",
     "output_type": "stream",
     "text": [
      "         sales_executive  current_outstanding\n",
      "0         ATM Nur Hossan            114862.20\n",
      "1      Al - Amin Mortoza           1532258.11\n",
      "2        Corporate Sales           -275907.50\n",
      "3   Jahirul Hoque Pranto            354470.10\n",
      "4  Mynuddin Hasan Hridoy            376298.45\n",
      "5     Noor Mohammad Razu            450518.80\n",
      "6            Omar Faruk            6562570.00\n",
      "7   Yousuf Mazumder Anik            310388.29\n",
      "8    Zahidul Islam Jewel            737345.47\n"
     ]
    }
   ],
   "source": [
    "# Sales executive wise current outstanding calculation\n",
    "df[\"current_outstanding\"] = (\n",
    "    df[\"open_value\"].fillna(0) +\n",
    "    df[\"sales_amount\"].fillna(0) -   # changed from sales_value to sales_amount\n",
    "    df[\"sales_return\"].fillna(0) -\n",
    "    df[\"customer_cashback_on_paid_amount\"].fillna(0)\n",
    ")\n",
    "\n",
    "# Group by sales executive\n",
    "executive_outstanding = df.groupby(\"sales_executive\")[\"current_outstanding\"].sum().reset_index()\n",
    "\n",
    "print(executive_outstanding)"
   ]
  },
  {
   "cell_type": "code",
   "execution_count": 4,
   "id": "48c48306",
   "metadata": {},
   "outputs": [
    {
     "name": "stdout",
     "output_type": "stream",
     "text": [
      "                     customer_name  customer_current_outstanding\n",
      "0            AJ Electronics (2024)                       6665.00\n",
      "1             AL - AKSA Crockeries                      22001.00\n",
      "2   Abdul Khaleque Varietise Store                      52337.20\n",
      "3            Al- Madina Crockeries                      18665.25\n",
      "4            Al- Madina Crockerise                       6817.00\n",
      "..                             ...                           ...\n",
      "62              Suruchi Enterprise                      45492.00\n",
      "63                      Swift Mart                    1326044.40\n",
      "64               Sylhet Enterprise                      11602.50\n",
      "65                         WELBURG                    6562570.00\n",
      "66              Yearpur Crockeries                      16222.75\n",
      "\n",
      "[67 rows x 2 columns]\n"
     ]
    }
   ],
   "source": [
    "# Customer wise current outstanding calculation\n",
    "df[\"customer_current_outstanding\"] = (\n",
    "    df[\"open_value\"].fillna(0) +\n",
    "    df[\"sales_amount\"].fillna(0) -   # changed from sales_value to sales_amount\n",
    "    df[\"sales_return\"].fillna(0) -\n",
    "    df[\"customer_cashback_on_paid_amount\"].fillna(0)\n",
    ")\n",
    "\n",
    "# Group by customer\n",
    "customer_Outstanding = df.groupby(\"customer_name\")[\"customer_current_outstanding\"].sum().reset_index()\n",
    "print(customer_Outstanding)"
   ]
  },
  {
   "cell_type": "code",
   "execution_count": 5,
   "id": "6d71f232",
   "metadata": {},
   "outputs": [
    {
     "name": "stdout",
     "output_type": "stream",
     "text": [
      "Today's Sales Amount: 510443.5\n",
      "Today's Paid Amount: 1513000.0\n"
     ]
    }
   ],
   "source": [
    "import pandas as pd\n",
    "import datetime\n",
    "\n",
    "# Make sure the 'date' column is in datetime format\n",
    "df['date'] = pd.to_datetime(df['date'])\n",
    "\n",
    "# Filter for today's date\n",
    "today = pd.to_datetime(\"2025-06-19\")  # Replace with today's date if needed\n",
    "today_df = df[df[\"date\"] == today]\n",
    "\n",
    "# Calculate today's sales and paid amounts\n",
    "today_sales = today_df[\"sales_amount\"].sum()\n",
    "today_paid = today_df[\"paid_amount\"].sum()\n",
    "\n",
    "print(f\"Today's Sales Amount: {today_sales}\")\n",
    "print(f\"Today's Paid Amount: {today_paid}\")"
   ]
  },
  {
   "cell_type": "code",
   "execution_count": 6,
   "id": "3af47c44",
   "metadata": {},
   "outputs": [
    {
     "name": "stdout",
     "output_type": "stream",
     "text": [
      "          date    customer_name customer_type  open_value  sales_amount  \\\n",
      "46  2025-06-01  Emon Enterprise    Dealership    637508.5           0.0   \n",
      "76  2025-06-03  Emon Enterprise    Dealership         0.0           0.0   \n",
      "77  2025-06-03  Emon Enterprise    Dealership         0.0           0.0   \n",
      "100 2025-06-17  Emon Enterprise    Dealership         0.0      109150.2   \n",
      "\n",
      "     paid_amount  customer_cashback_on_paid_amount  \n",
      "46           0.0                               0.0  \n",
      "76       10000.0                             200.0  \n",
      "77       50000.0                            1000.0  \n",
      "100          0.0                               0.0  \n"
     ]
    }
   ],
   "source": [
    "# Get specific columns for a specific customer\n",
    "customer_name = \"Emon Enterprise\"  # Replace with the actual customer name\n",
    "columns_to_show = [\"date\", \"customer_name\",\"customer_type\",\"open_value\",\"sales_amount\", \"paid_amount\",\"customer_cashback_on_paid_amount\"]  # Add or remove columns as needed\n",
    "\n",
    "customer_transactions = df[df[\"customer_name\"] == customer_name][columns_to_show]\n",
    "\n",
    "print(customer_transactions)"
   ]
  },
  {
   "cell_type": "code",
   "execution_count": 7,
   "id": "dcfce482",
   "metadata": {},
   "outputs": [
    {
     "name": "stdout",
     "output_type": "stream",
     "text": [
      "Total:          sales_executive  paid_amount\n",
      "0         ATM Nur Hossan          0.0\n",
      "1      Al - Amin Mortoza     243163.0\n",
      "2        Corporate Sales    1513000.0\n",
      "3   Jahirul Hoque Pranto      91699.0\n",
      "4  Mynuddin Hasan Hridoy      86150.0\n",
      "5     Noor Mohammad Razu      43885.0\n",
      "6            Omar Faruk           0.0\n",
      "7   Yousuf Mazumder Anik      58600.0\n",
      "8    Zahidul Islam Jewel      82665.0\n",
      "Total Deposit June month: 2119162.0 BDT\n"
     ]
    }
   ],
   "source": [
    "# Total Paid by Sales Excecutive\n",
    "deposit_by_ex = df.groupby('sales_executive')['paid_amount'].sum().reset_index()\n",
    "\n",
    "print(\"Total:\",deposit_by_ex)\n",
    "total_paid = df['paid_amount'].sum()\n",
    "print(f\"Total Deposit June month: {total_paid} BDT\")"
   ]
  },
  {
   "cell_type": "code",
   "execution_count": 8,
   "id": "d754a627",
   "metadata": {},
   "outputs": [
    {
     "name": "stdout",
     "output_type": "stream",
     "text": [
      "Total Paid by Customer:\n",
      "AJ Electronics (2024): 6665.0 BDT\n",
      "AL - AKSA Crockeries: 5000.0 BDT\n",
      "Abdul Khaleque Varietise Store: 0.0 BDT\n",
      "Al- Madina Crockeries: 5000.0 BDT\n",
      "Al- Madina Crockerise: 6817.0 BDT\n",
      "Amanat Enterprise / New azmir: 0.0 BDT\n",
      "Anondo Crockeries: 0.0 BDT\n",
      "Articuler Corporation: 0.0 BDT\n",
      "Bismilliah Crockeries: 8000.0 BDT\n",
      "Bissmillah Aluminium: 0.0 BDT\n",
      "Crockeries Gallery: 0.0 BDT\n",
      "Dali Super Shop: 20000.0 BDT\n",
      "Emon Enterprise: 60000.0 BDT\n",
      "Family Mart: 2000.0 BDT\n",
      "Fashion House: 9000.0 BDT\n",
      "Foysal Enterprise: 5733.0 BDT\n",
      "Friends Crockeries: 0.0 BDT\n",
      "Gazi and brothers: 0.0 BDT\n",
      "Grameen Crockeries: 0.0 BDT\n",
      "Grihoponno Crockeries: 56810.0 BDT\n",
      "Halima Crockeries: 0.0 BDT\n",
      "Helal Crockerise: 3623.0 BDT\n",
      "Iqra Crockeries: 2600.0 BDT\n",
      "Jhenaida Enterprise: 7200.0 BDT\n",
      "Jhorna Crockeries: 3000.0 BDT\n",
      "Jononi Enterprise: 22950.0 BDT\n",
      "Jui Crockeries: 0.0 BDT\n",
      "Kawchar Store: 60600.0 BDT\n",
      "Lisen Enterprise: 10000.0 BDT\n",
      "MA Trading: 18600.0 BDT\n",
      "Ma Crockeries: 0.0 BDT\n",
      "Ma Trading: 40000.0 BDT\n",
      "Mahbub Store: 0.0 BDT\n",
      "Mahim Enterprise: 0.0 BDT\n",
      "Mahir Exclusive: 10000.0 BDT\n",
      "Mayer Dua Enterprise: 4900.0 BDT\n",
      "Mohammadia Trading: 0.0 BDT\n",
      "Munna Crockerise: 6545.0 BDT\n",
      "Neha Crockeries: 0.0 BDT\n",
      "Newaj Crockeries: 4780.0 BDT\n",
      "Nurjahan Crockeries: 0.0 BDT\n",
      "One to ninety-nine Shop: 0.0 BDT\n",
      "Popular Aluminum: 0.0 BDT\n",
      "Rafi Crockeries: 13710.0 BDT\n",
      "Raisa Store: 0.0 BDT\n",
      "Ramisha Enterprise: 0.0 BDT\n",
      "Rintu Enterprise: 0.0 BDT\n",
      "Rokeya Exclusive: 0.0 BDT\n",
      "Royel Kitchen: 22560.0 BDT\n",
      "Ruma Enterprise: 7000.0 BDT\n",
      "S.E Enterprise: 0.0 BDT\n",
      "S.M Crockeries: 0.0 BDT\n",
      "SR International: 1513000.0 BDT\n",
      "Saima Crockeries: 0.0 BDT\n",
      "Sajid and brothers: 0.0 BDT\n",
      "Samia Crockeries: 0.0 BDT\n",
      "Sammy Crockerise (2024): 11289.0 BDT\n",
      "Sattar Crockeries: 0.0 BDT\n",
      "Saudia Electronics: 0.0 BDT\n",
      "Sayed Gift Corner: 0.0 BDT\n",
      "Sayem Trading: 19500.0 BDT\n",
      "Silvia Crockeries: 48280.0 BDT\n",
      "Suruchi Enterprise: 0.0 BDT\n",
      "Swift Mart: 100000.0 BDT\n",
      "Sylhet Enterprise: 0.0 BDT\n",
      "WELBURG: 0.0 BDT\n",
      "Yearpur Crockeries: 4000.0 BDT\n",
      "\n",
      "Total Deposit June month: 2119162.0 BDT\n"
     ]
    }
   ],
   "source": [
    "# Total Paid by Customer\n",
    "deposit_by_customer = df.groupby('customer_name')['paid_amount'].sum().reset_index()\n",
    "\n",
    "print(\"Total Paid by Customer:\")\n",
    "for idx, row in deposit_by_customer.iterrows():\n",
    "    print(f\"{row['customer_name']}: {row['paid_amount']} BDT\")\n",
    "\n",
    "total_paid = df['paid_amount'].sum()\n",
    "print(f\"\\nTotal Deposit June month: {total_paid} BDT\")"
   ]
  },
  {
   "cell_type": "code",
   "execution_count": 9,
   "id": "bfed3b8c",
   "metadata": {},
   "outputs": [
    {
     "name": "stdout",
     "output_type": "stream",
     "text": [
      "          date    customer_name customer_type  open_value  sales_amount  \\\n",
      "46  2025-06-01  Emon Enterprise    Dealership    637508.5           0.0   \n",
      "76  2025-06-03  Emon Enterprise    Dealership         0.0           0.0   \n",
      "77  2025-06-03  Emon Enterprise    Dealership         0.0           0.0   \n",
      "100 2025-06-17  Emon Enterprise    Dealership         0.0      109150.2   \n",
      "\n",
      "     paid_amount  customer_cashback_on_paid_amount  sales_return  \\\n",
      "46           0.0                               0.0           0.0   \n",
      "76       10000.0                             200.0           0.0   \n",
      "77       50000.0                            1000.0           0.0   \n",
      "100          0.0                               0.0           0.0   \n",
      "\n",
      "            outstanding  \n",
      "46   (-51000.0, [date])  \n",
      "76   (-10200.0, [date])  \n",
      "77   (109150.2, [date])  \n",
      "100  (637508.5, [date])  \n"
     ]
    }
   ],
   "source": [
    "# Get specific columns for a specific customer and calculate outstanding\n",
    "customer_name = \"Emon Enterprise\"  # Replace with the actual customer name\n",
    "columns_to_show = [\n",
    "    \"date\", \"customer_name\", \"customer_type\", \"open_value\",\n",
    "    \"sales_amount\", \"paid_amount\", \"customer_cashback_on_paid_amount\",\n",
    "    \"sales_return\"\n",
    "]  # Add or remove columns as needed\n",
    "\n",
    "# Filter transactions for the customer\n",
    "customer_transactions = df[df[\"customer_name\"] == customer_name].copy()\n",
    "\n",
    "# Calculate outstanding for each transaction\n",
    "customer_transactions[\"outstanding\"] = df.groupby(\n",
    "    customer_transactions[\"open_value\"].fillna(0) +\n",
    "    customer_transactions[\"sales_amount\"].fillna(0) -\n",
    "    customer_transactions[\"paid_amount\"].fillna(0) -\n",
    "    customer_transactions[\"sales_return\"].fillna(0) -\n",
    "    customer_transactions[\"customer_cashback_on_paid_amount\"].fillna(0)\n",
    ")\n",
    "\n",
    "# Show only the desired columns plus outstanding\n",
    "columns_to_show.append(\"outstanding\")\n",
    "print(customer_transactions[columns_to_show])"
   ]
  },
  {
   "cell_type": "code",
   "execution_count": 10,
   "id": "cc0a99ab",
   "metadata": {},
   "outputs": [
    {
     "data": {
      "text/plain": [
       "'\\n# Save the customer transactions (with outstanding) to an Excel file\\ncustomer_transactions[columns_to_show].to_excel(f\"{customer_name}_transactions_report.xlsx\", index=False)\\nprint(f\"Report saved as {customer_name}_transactions_report.xlsx\")\\n'"
      ]
     },
     "execution_count": 10,
     "metadata": {},
     "output_type": "execute_result"
    }
   ],
   "source": [
    "'''\n",
    "# Save the customer transactions (with outstanding) to an Excel file\n",
    "customer_transactions[columns_to_show].to_excel(f\"{customer_name}_transactions_report.xlsx\", index=False)\n",
    "print(f\"Report saved as {customer_name}_transactions_report.xlsx\")\n",
    "'''"
   ]
  },
  {
   "cell_type": "code",
   "execution_count": 11,
   "id": "ade92842",
   "metadata": {},
   "outputs": [
    {
     "name": "stdout",
     "output_type": "stream",
     "text": [
      "ATM Nur Hossan Present Outstanding: 114862.2 BDT\n"
     ]
    }
   ],
   "source": [
    "# Get specific columns for a specific executive and calculate outstanding\n",
    "executive_name = \"ATM Nur Hossan\"  # Replace with the actual Executive name\n",
    "\n",
    "# Filter transactions for the customer\n",
    "executive_transactions = df[df[\"sales_executive\"] == executive_name].copy()\n",
    "\n",
    "# Calculate outstanding for each transaction (row-wise)\n",
    "executive_transactions[\"outstanding\"] = (\n",
    "    executive_transactions[\"open_value\"].fillna(0) +\n",
    "    executive_transactions[\"sales_amount\"].fillna(0) -\n",
    "    executive_transactions[\"paid_amount\"].fillna(0) -\n",
    "    executive_transactions[\"sales_return\"].fillna(0) -\n",
    "    executive_transactions[\"customer_cashback_on_paid_amount\"].fillna(0)\n",
    ")\n",
    "\n",
    "# Present outstanding (sum of all outstanding for this customer)\n",
    "present_outstanding = executive_transactions[\"outstanding\"].sum()\n",
    "\n",
    "print(f\"{executive_name} Present Outstanding: {present_outstanding} BDT\")"
   ]
  },
  {
   "cell_type": "code",
   "execution_count": 12,
   "id": "7f666cb2",
   "metadata": {},
   "outputs": [
    {
     "name": "stdout",
     "output_type": "stream",
     "text": [
      "          date       sales_executive            customer_name  open_value  \\\n",
      "24  2025-06-01  Yousuf Mazumder Anik    Articuler Corporation     -101.00   \n",
      "27  2025-06-01  Yousuf Mazumder Anik        Gazi and brothers       17.94   \n",
      "30  2025-06-01  Yousuf Mazumder Anik  One to ninety-nine Shop     8177.25   \n",
      "35  2025-06-01  Yousuf Mazumder Anik       Mohammadia Trading    18298.90   \n",
      "36  2025-06-01  Yousuf Mazumder Anik       Sajid and brothers      -32.50   \n",
      "37  2025-06-01  Yousuf Mazumder Anik              Raisa Store      163.60   \n",
      "38  2025-06-01  Yousuf Mazumder Anik       Grameen Crockeries        0.00   \n",
      "39  2025-06-01  Yousuf Mazumder Anik               Ma Trading    18760.55   \n",
      "40  2025-06-01  Yousuf Mazumder Anik     Bissmillah Aluminium    15596.00   \n",
      "42  2025-06-01  Yousuf Mazumder Anik        Sylhet Enterprise    14297.00   \n",
      "43  2025-06-01  Yousuf Mazumder Anik       Friends Crockeries    28594.00   \n",
      "66  2025-06-01  Yousuf Mazumder Anik               MA Trading        0.00   \n",
      "71  2025-06-02  Yousuf Mazumder Anik               Ma Trading        0.00   \n",
      "89  2025-06-05  Yousuf Mazumder Anik               Ma Trading        0.00   \n",
      "99  2025-06-16  Yousuf Mazumder Anik        Sylhet Enterprise        0.00   \n",
      "117 2025-06-19  Yousuf Mazumder Anik         Rintu Enterprise        0.00   \n",
      "118 2025-06-19  Yousuf Mazumder Anik           S.E Enterprise        0.00   \n",
      "119 2025-06-19  Yousuf Mazumder Anik       Suruchi Enterprise        0.00   \n",
      "\n",
      "     sales_amount  paid_amount  customer_cashback_on_paid_amount  sales_return  \n",
      "24           0.00          0.0                               0.0           0.0  \n",
      "27           0.00          0.0                               0.0           0.0  \n",
      "30           0.00          0.0                               0.0           0.0  \n",
      "35           0.00          0.0                               0.0           0.0  \n",
      "36           0.00          0.0                               0.0           0.0  \n",
      "37           0.00          0.0                               0.0           0.0  \n",
      "38           0.00          0.0                               0.0           0.0  \n",
      "39           0.00          0.0                               0.0           0.0  \n",
      "40           0.00          0.0                               0.0           0.0  \n",
      "42           0.00          0.0                               0.0           0.0  \n",
      "43           0.00          0.0                               0.0           0.0  \n",
      "66           0.00      18600.0                               0.0           0.0  \n",
      "71       40367.05          NaN                               0.0           NaN  \n",
      "89           0.00      40000.0                               NaN           0.0  \n",
      "99           0.00          0.0                               0.0        2694.5  \n",
      "117      79244.00          0.0                               0.0           0.0  \n",
      "118      44208.00          0.0                               0.0           0.0  \n",
      "119      45492.00          0.0                               0.0           0.0  \n"
     ]
    }
   ],
   "source": [
    "# Get all transactions for a specific sales executive\n",
    "executive_name = \"Yousuf Mazumder Anik\"  # Replace with the actual executive name\n",
    "columns_to_show = [\n",
    "    \"date\", \"sales_executive\", \"customer_name\", \"open_value\",\n",
    "    \"sales_amount\", \"paid_amount\", \"customer_cashback_on_paid_amount\",\n",
    "    \"sales_return\"\n",
    "]  # Add or remove columns as needed\n",
    "\n",
    "executive_transactions = df[df[\"sales_executive\"] == executive_name][columns_to_show]\n",
    "\n",
    "print(executive_transactions)"
   ]
  },
  {
   "cell_type": "code",
   "execution_count": 13,
   "id": "f9adf696",
   "metadata": {},
   "outputs": [
    {
     "name": "stdout",
     "output_type": "stream",
     "text": [
      "          date       sales_executive            customer_name  open_value  \\\n",
      "24  2025-06-01  Yousuf Mazumder Anik    Articuler Corporation     -101.00   \n",
      "66  2025-06-01  Yousuf Mazumder Anik               MA Trading        0.00   \n",
      "43  2025-06-01  Yousuf Mazumder Anik       Friends Crockeries    28594.00   \n",
      "42  2025-06-01  Yousuf Mazumder Anik        Sylhet Enterprise    14297.00   \n",
      "39  2025-06-01  Yousuf Mazumder Anik               Ma Trading    18760.55   \n",
      "38  2025-06-01  Yousuf Mazumder Anik       Grameen Crockeries        0.00   \n",
      "40  2025-06-01  Yousuf Mazumder Anik     Bissmillah Aluminium    15596.00   \n",
      "36  2025-06-01  Yousuf Mazumder Anik       Sajid and brothers      -32.50   \n",
      "35  2025-06-01  Yousuf Mazumder Anik       Mohammadia Trading    18298.90   \n",
      "30  2025-06-01  Yousuf Mazumder Anik  One to ninety-nine Shop     8177.25   \n",
      "27  2025-06-01  Yousuf Mazumder Anik        Gazi and brothers       17.94   \n",
      "37  2025-06-01  Yousuf Mazumder Anik              Raisa Store      163.60   \n",
      "71  2025-06-02  Yousuf Mazumder Anik               Ma Trading        0.00   \n",
      "89  2025-06-05  Yousuf Mazumder Anik               Ma Trading        0.00   \n",
      "99  2025-06-16  Yousuf Mazumder Anik        Sylhet Enterprise        0.00   \n",
      "118 2025-06-19  Yousuf Mazumder Anik           S.E Enterprise        0.00   \n",
      "117 2025-06-19  Yousuf Mazumder Anik         Rintu Enterprise        0.00   \n",
      "119 2025-06-19  Yousuf Mazumder Anik       Suruchi Enterprise        0.00   \n",
      "\n",
      "     sales_amount  paid_amount  customer_cashback_on_paid_amount  \\\n",
      "24           0.00          0.0                               0.0   \n",
      "66           0.00      18600.0                               0.0   \n",
      "43           0.00          0.0                               0.0   \n",
      "42           0.00          0.0                               0.0   \n",
      "39           0.00          0.0                               0.0   \n",
      "38           0.00          0.0                               0.0   \n",
      "40           0.00          0.0                               0.0   \n",
      "36           0.00          0.0                               0.0   \n",
      "35           0.00          0.0                               0.0   \n",
      "30           0.00          0.0                               0.0   \n",
      "27           0.00          0.0                               0.0   \n",
      "37           0.00          0.0                               0.0   \n",
      "71       40367.05          NaN                               0.0   \n",
      "89           0.00      40000.0                               NaN   \n",
      "99           0.00          0.0                               0.0   \n",
      "118      44208.00          0.0                               0.0   \n",
      "117      79244.00          0.0                               0.0   \n",
      "119      45492.00          0.0                               0.0   \n",
      "\n",
      "     sales_return  outstanding  \n",
      "24            0.0      -101.00  \n",
      "66            0.0    -18600.00  \n",
      "43            0.0     28594.00  \n",
      "42            0.0     14297.00  \n",
      "39            0.0     18760.55  \n",
      "38            0.0         0.00  \n",
      "40            0.0     15596.00  \n",
      "36            0.0       -32.50  \n",
      "35            0.0     18298.90  \n",
      "30            0.0      8177.25  \n",
      "27            0.0        17.94  \n",
      "37            0.0       163.60  \n",
      "71            NaN     40367.05  \n",
      "89            0.0    -40000.00  \n",
      "99         2694.5     -2694.50  \n",
      "118           0.0     44208.00  \n",
      "117           0.0     79244.00  \n",
      "119           0.0     45492.00  \n",
      "\n",
      "Yousuf Mazumder Anik Total Outstanding: 251788.29 BDT\n"
     ]
    }
   ],
   "source": [
    "# Get all transactions for a specific sales executive and calculate outstanding\n",
    "executive_name = \"Yousuf Mazumder Anik\"  # Replace with the actual executive name\n",
    "columns_to_show = [\n",
    "    \"date\", \"sales_executive\", \"customer_name\", \"open_value\",\n",
    "    \"sales_amount\", \"paid_amount\", \"customer_cashback_on_paid_amount\",\n",
    "    \"sales_return\", \"outstanding\"\n",
    "]  # Add or remove columns as needed\n",
    "\n",
    "# Filter transactions for the executive\n",
    "executive_transactions = df[df[\"sales_executive\"] == executive_name].copy()\n",
    "\n",
    "# Calculate outstanding for each transaction (row-wise)\n",
    "executive_transactions[\"outstanding\"] = (\n",
    "    executive_transactions[\"open_value\"].fillna(0) +\n",
    "    executive_transactions[\"sales_amount\"].fillna(0) -\n",
    "    executive_transactions[\"paid_amount\"].fillna(0) -\n",
    "    executive_transactions[\"sales_return\"].fillna(0) -\n",
    "    executive_transactions[\"customer_cashback_on_paid_amount\"].fillna(0)\n",
    ")\n",
    "\n",
    "# Sort by date\n",
    "executive_transactions = executive_transactions.sort_values(\"date\")\n",
    "\n",
    "# Show only the desired columns\n",
    "print(executive_transactions[columns_to_show])\n",
    "\n",
    "# Show total outstanding for the executive\n",
    "total_outstanding = executive_transactions[\"outstanding\"].sum()\n",
    "print(f\"\\n{executive_name} Total Outstanding: {total_outstanding} BDT\")"
   ]
  },
  {
   "cell_type": "code",
   "execution_count": 14,
   "id": "6a15198e",
   "metadata": {},
   "outputs": [
    {
     "name": "stdout",
     "output_type": "stream",
     "text": [
      "\n",
      "Daily Summary:\n",
      "        date  open_value  sales_amount  paid_amount  sales_return  \\\n",
      "0 2025-06-01   103771.74          0.00      18600.0           0.0   \n",
      "1 2025-06-02        0.00      40367.05          0.0           0.0   \n",
      "2 2025-06-05        0.00          0.00      40000.0           0.0   \n",
      "3 2025-06-16        0.00          0.00          0.0        2694.5   \n",
      "4 2025-06-19        0.00     168944.00          0.0           0.0   \n",
      "\n",
      "   customer_cashback_on_paid_amount  outstanding  \n",
      "0                               0.0     85171.74  \n",
      "1                               0.0     40367.05  \n",
      "2                               0.0    -40000.00  \n",
      "3                               0.0     -2694.50  \n",
      "4                               0.0    168944.00  \n"
     ]
    }
   ],
   "source": [
    "# Daily summary for the executive\n",
    "daily_summary = executive_transactions.groupby(\"date\")[\n",
    "    [\"open_value\", \"sales_amount\", \"paid_amount\", \"sales_return\", \"customer_cashback_on_paid_amount\", \"outstanding\"]\n",
    "].sum().reset_index()\n",
    "\n",
    "print(\"\\nDaily Summary:\")\n",
    "print(daily_summary)"
   ]
  },
  {
   "cell_type": "code",
   "execution_count": 15,
   "id": "f015972d",
   "metadata": {},
   "outputs": [
    {
     "name": "stdout",
     "output_type": "stream",
     "text": [
      "\n",
      "Transactions with Outstanding Dues:\n",
      "          date       sales_executive            customer_name  open_value  \\\n",
      "43  2025-06-01  Yousuf Mazumder Anik       Friends Crockeries    28594.00   \n",
      "42  2025-06-01  Yousuf Mazumder Anik        Sylhet Enterprise    14297.00   \n",
      "39  2025-06-01  Yousuf Mazumder Anik               Ma Trading    18760.55   \n",
      "40  2025-06-01  Yousuf Mazumder Anik     Bissmillah Aluminium    15596.00   \n",
      "35  2025-06-01  Yousuf Mazumder Anik       Mohammadia Trading    18298.90   \n",
      "30  2025-06-01  Yousuf Mazumder Anik  One to ninety-nine Shop     8177.25   \n",
      "27  2025-06-01  Yousuf Mazumder Anik        Gazi and brothers       17.94   \n",
      "37  2025-06-01  Yousuf Mazumder Anik              Raisa Store      163.60   \n",
      "71  2025-06-02  Yousuf Mazumder Anik               Ma Trading        0.00   \n",
      "118 2025-06-19  Yousuf Mazumder Anik           S.E Enterprise        0.00   \n",
      "117 2025-06-19  Yousuf Mazumder Anik         Rintu Enterprise        0.00   \n",
      "119 2025-06-19  Yousuf Mazumder Anik       Suruchi Enterprise        0.00   \n",
      "\n",
      "     sales_amount  paid_amount  customer_cashback_on_paid_amount  \\\n",
      "43           0.00          0.0                               0.0   \n",
      "42           0.00          0.0                               0.0   \n",
      "39           0.00          0.0                               0.0   \n",
      "40           0.00          0.0                               0.0   \n",
      "35           0.00          0.0                               0.0   \n",
      "30           0.00          0.0                               0.0   \n",
      "27           0.00          0.0                               0.0   \n",
      "37           0.00          0.0                               0.0   \n",
      "71       40367.05          NaN                               0.0   \n",
      "118      44208.00          0.0                               0.0   \n",
      "117      79244.00          0.0                               0.0   \n",
      "119      45492.00          0.0                               0.0   \n",
      "\n",
      "     sales_return  outstanding  \n",
      "43            0.0     28594.00  \n",
      "42            0.0     14297.00  \n",
      "39            0.0     18760.55  \n",
      "40            0.0     15596.00  \n",
      "35            0.0     18298.90  \n",
      "30            0.0      8177.25  \n",
      "27            0.0        17.94  \n",
      "37            0.0       163.60  \n",
      "71            NaN     40367.05  \n",
      "118           0.0     44208.00  \n",
      "117           0.0     79244.00  \n",
      "119           0.0     45492.00  \n"
     ]
    }
   ],
   "source": [
    "dues = executive_transactions[executive_transactions[\"outstanding\"] > 0]\n",
    "print(\"\\nTransactions with Outstanding Dues:\")\n",
    "print(dues[columns_to_show])"
   ]
  },
  {
   "cell_type": "code",
   "execution_count": 16,
   "id": "49063e01",
   "metadata": {},
   "outputs": [
    {
     "name": "stdout",
     "output_type": "stream",
     "text": [
      "          date  cumulative_outstanding\n",
      "24  2025-06-01                 -101.00\n",
      "37  2025-06-01                   62.60\n",
      "27  2025-06-01                   80.54\n",
      "30  2025-06-01                 8257.79\n",
      "36  2025-06-01                 8225.29\n",
      "40  2025-06-01                23821.29\n",
      "35  2025-06-01                42120.19\n",
      "39  2025-06-01                60880.74\n",
      "42  2025-06-01                75177.74\n",
      "43  2025-06-01               103771.74\n",
      "66  2025-06-01                85171.74\n",
      "38  2025-06-01                85171.74\n",
      "71  2025-06-02               125538.79\n",
      "89  2025-06-05                85538.79\n",
      "99  2025-06-16                82844.29\n",
      "117 2025-06-19               162088.29\n",
      "118 2025-06-19               206296.29\n",
      "119 2025-06-19               251788.29\n"
     ]
    }
   ],
   "source": [
    "executive_transactions = executive_transactions.sort_values(\"date\")\n",
    "executive_transactions[\"cumulative_outstanding\"] = executive_transactions[\"outstanding\"].cumsum()\n",
    "print(executive_transactions[[\"date\", \"cumulative_outstanding\"]])"
   ]
  },
  {
   "cell_type": "code",
   "execution_count": 17,
   "id": "a8d1d9d2",
   "metadata": {},
   "outputs": [
    {
     "name": "stdout",
     "output_type": "stream",
     "text": [
      "Total for Yousuf Mazumder Anik:\n",
      "open_value                          103771.74\n",
      "sales_amount                        209311.05\n",
      "sales_return                          2694.50\n",
      "paid_amount                          58600.00\n",
      "customer_cashback_on_paid_amount         0.00\n",
      "dtype: float64\n"
     ]
    }
   ],
   "source": [
    "# Sum of columns for a specific sales executive\n",
    "executive_name = \"Yousuf Mazumder Anik\"  # Replace with the actual executive name\n",
    "\n",
    "# Filter for the executive\n",
    "executive_df = df[df[\"sales_executive\"] == executive_name]\n",
    "\n",
    "# Columns to sum\n",
    "columns_to_sum = [\n",
    "    \"open_value\", \"sales_amount\", \"sales_return\",\n",
    "    \"paid_amount\", \"customer_cashback_on_paid_amount\"\n",
    "]\n",
    "\n",
    "# Calculate sums\n",
    "sums = executive_df[columns_to_sum].sum()\n",
    "\n",
    "print(f\"Total for {executive_name}:\")\n",
    "print(sums)"
   ]
  },
  {
   "cell_type": "code",
   "execution_count": 18,
   "id": "96868533",
   "metadata": {},
   "outputs": [
    {
     "name": "stdout",
     "output_type": "stream",
     "text": [
      "Total for Noor Mohammad Razu from 2025-06-01 to 2025-06-18:\n",
      "open_value                          303116.07\n",
      "sales_amount                        133981.23\n",
      "sales_return                             0.00\n",
      "paid_amount                          43885.00\n",
      "customer_cashback_on_paid_amount         0.00\n",
      "dtype: float64\n"
     ]
    }
   ],
   "source": [
    "# Sum of columns for a specific sales executive within a date range\n",
    "executive_name = \"Noor Mohammad Razu\"  # Replace with the actual executive name\n",
    "\n",
    "# Set your date range\n",
    "start_date = \"2025-06-01\"  # Replace with your desired start date\n",
    "end_date = \"2025-06-18\"    # Replace with your desired end date\n",
    "\n",
    "# Make sure 'date' column is datetime\n",
    "df['date'] = pd.to_datetime(df['date'])\n",
    "\n",
    "# Filter for the executive and date range\n",
    "executive_df = df[\n",
    "    (df[\"sales_executive\"] == executive_name) &\n",
    "    (df[\"date\"] >= pd.to_datetime(start_date)) &\n",
    "    (df[\"date\"] <= pd.to_datetime(end_date))\n",
    "]\n",
    "\n",
    "# Columns to sum\n",
    "columns_to_sum = [\n",
    "    \"open_value\", \"sales_amount\", \"sales_return\",\n",
    "    \"paid_amount\", \"customer_cashback_on_paid_amount\"\n",
    "]\n",
    "\n",
    "# Calculate sums\n",
    "sums = executive_df[columns_to_sum].sum()\n",
    "\n",
    "print(f\"Total for {executive_name} from {start_date} to {end_date}:\")\n",
    "print(sums)"
   ]
  },
  {
   "cell_type": "code",
   "execution_count": 19,
   "id": "5c5edafa",
   "metadata": {},
   "outputs": [
    {
     "data": {
      "application/vnd.plotly.v1+json": {
       "config": {
        "plotlyServerURL": "https://plot.ly"
       },
       "data": [
        {
         "alignmentgroup": "True",
         "hovertemplate": "Type=sales_amount<br>Sales Executive=%{x}<br>Amount (BDT)=%{y}<extra></extra>",
         "legendgroup": "sales_amount",
         "marker": {
          "color": "#636efa",
          "pattern": {
           "shape": ""
          }
         },
         "name": "sales_amount",
         "offsetgroup": "sales_amount",
         "orientation": "v",
         "showlegend": true,
         "textposition": "auto",
         "type": "bar",
         "x": [
          "Al - Amin Mortoza",
          "Jahirul Hoque Pranto",
          "Mynuddin Hasan Hridoy",
          "Noor Mohammad Razu",
          "Yousuf Mazumder Anik",
          "Zahidul Islam Jewel"
         ],
         "xaxis": "x",
         "y": [
          0,
          30242.69,
          0,
          0,
          40367.05,
          0
         ],
         "yaxis": "y"
        },
        {
         "alignmentgroup": "True",
         "hovertemplate": "Type=paid_amount<br>Sales Executive=%{x}<br>Amount (BDT)=%{y}<extra></extra>",
         "legendgroup": "paid_amount",
         "marker": {
          "color": "#EF553B",
          "pattern": {
           "shape": ""
          }
         },
         "name": "paid_amount",
         "offsetgroup": "paid_amount",
         "orientation": "v",
         "showlegend": true,
         "textposition": "auto",
         "type": "bar",
         "x": [
          "Al - Amin Mortoza",
          "Jahirul Hoque Pranto",
          "Mynuddin Hasan Hridoy",
          "Noor Mohammad Razu",
          "Yousuf Mazumder Anik",
          "Zahidul Islam Jewel"
         ],
         "xaxis": "x",
         "y": [
          180620,
          77210,
          39950,
          2000,
          58600,
          69000
         ],
         "yaxis": "y"
        }
       ],
       "layout": {
        "barmode": "group",
        "legend": {
         "title": {
          "text": "Type"
         },
         "tracegroupgap": 0
        },
        "template": {
         "data": {
          "bar": [
           {
            "error_x": {
             "color": "#2a3f5f"
            },
            "error_y": {
             "color": "#2a3f5f"
            },
            "marker": {
             "line": {
              "color": "#E5ECF6",
              "width": 0.5
             },
             "pattern": {
              "fillmode": "overlay",
              "size": 10,
              "solidity": 0.2
             }
            },
            "type": "bar"
           }
          ],
          "barpolar": [
           {
            "marker": {
             "line": {
              "color": "#E5ECF6",
              "width": 0.5
             },
             "pattern": {
              "fillmode": "overlay",
              "size": 10,
              "solidity": 0.2
             }
            },
            "type": "barpolar"
           }
          ],
          "carpet": [
           {
            "aaxis": {
             "endlinecolor": "#2a3f5f",
             "gridcolor": "white",
             "linecolor": "white",
             "minorgridcolor": "white",
             "startlinecolor": "#2a3f5f"
            },
            "baxis": {
             "endlinecolor": "#2a3f5f",
             "gridcolor": "white",
             "linecolor": "white",
             "minorgridcolor": "white",
             "startlinecolor": "#2a3f5f"
            },
            "type": "carpet"
           }
          ],
          "choropleth": [
           {
            "colorbar": {
             "outlinewidth": 0,
             "ticks": ""
            },
            "type": "choropleth"
           }
          ],
          "contour": [
           {
            "colorbar": {
             "outlinewidth": 0,
             "ticks": ""
            },
            "colorscale": [
             [
              0,
              "#0d0887"
             ],
             [
              0.1111111111111111,
              "#46039f"
             ],
             [
              0.2222222222222222,
              "#7201a8"
             ],
             [
              0.3333333333333333,
              "#9c179e"
             ],
             [
              0.4444444444444444,
              "#bd3786"
             ],
             [
              0.5555555555555556,
              "#d8576b"
             ],
             [
              0.6666666666666666,
              "#ed7953"
             ],
             [
              0.7777777777777778,
              "#fb9f3a"
             ],
             [
              0.8888888888888888,
              "#fdca26"
             ],
             [
              1,
              "#f0f921"
             ]
            ],
            "type": "contour"
           }
          ],
          "contourcarpet": [
           {
            "colorbar": {
             "outlinewidth": 0,
             "ticks": ""
            },
            "type": "contourcarpet"
           }
          ],
          "heatmap": [
           {
            "colorbar": {
             "outlinewidth": 0,
             "ticks": ""
            },
            "colorscale": [
             [
              0,
              "#0d0887"
             ],
             [
              0.1111111111111111,
              "#46039f"
             ],
             [
              0.2222222222222222,
              "#7201a8"
             ],
             [
              0.3333333333333333,
              "#9c179e"
             ],
             [
              0.4444444444444444,
              "#bd3786"
             ],
             [
              0.5555555555555556,
              "#d8576b"
             ],
             [
              0.6666666666666666,
              "#ed7953"
             ],
             [
              0.7777777777777778,
              "#fb9f3a"
             ],
             [
              0.8888888888888888,
              "#fdca26"
             ],
             [
              1,
              "#f0f921"
             ]
            ],
            "type": "heatmap"
           }
          ],
          "heatmapgl": [
           {
            "colorbar": {
             "outlinewidth": 0,
             "ticks": ""
            },
            "colorscale": [
             [
              0,
              "#0d0887"
             ],
             [
              0.1111111111111111,
              "#46039f"
             ],
             [
              0.2222222222222222,
              "#7201a8"
             ],
             [
              0.3333333333333333,
              "#9c179e"
             ],
             [
              0.4444444444444444,
              "#bd3786"
             ],
             [
              0.5555555555555556,
              "#d8576b"
             ],
             [
              0.6666666666666666,
              "#ed7953"
             ],
             [
              0.7777777777777778,
              "#fb9f3a"
             ],
             [
              0.8888888888888888,
              "#fdca26"
             ],
             [
              1,
              "#f0f921"
             ]
            ],
            "type": "heatmapgl"
           }
          ],
          "histogram": [
           {
            "marker": {
             "pattern": {
              "fillmode": "overlay",
              "size": 10,
              "solidity": 0.2
             }
            },
            "type": "histogram"
           }
          ],
          "histogram2d": [
           {
            "colorbar": {
             "outlinewidth": 0,
             "ticks": ""
            },
            "colorscale": [
             [
              0,
              "#0d0887"
             ],
             [
              0.1111111111111111,
              "#46039f"
             ],
             [
              0.2222222222222222,
              "#7201a8"
             ],
             [
              0.3333333333333333,
              "#9c179e"
             ],
             [
              0.4444444444444444,
              "#bd3786"
             ],
             [
              0.5555555555555556,
              "#d8576b"
             ],
             [
              0.6666666666666666,
              "#ed7953"
             ],
             [
              0.7777777777777778,
              "#fb9f3a"
             ],
             [
              0.8888888888888888,
              "#fdca26"
             ],
             [
              1,
              "#f0f921"
             ]
            ],
            "type": "histogram2d"
           }
          ],
          "histogram2dcontour": [
           {
            "colorbar": {
             "outlinewidth": 0,
             "ticks": ""
            },
            "colorscale": [
             [
              0,
              "#0d0887"
             ],
             [
              0.1111111111111111,
              "#46039f"
             ],
             [
              0.2222222222222222,
              "#7201a8"
             ],
             [
              0.3333333333333333,
              "#9c179e"
             ],
             [
              0.4444444444444444,
              "#bd3786"
             ],
             [
              0.5555555555555556,
              "#d8576b"
             ],
             [
              0.6666666666666666,
              "#ed7953"
             ],
             [
              0.7777777777777778,
              "#fb9f3a"
             ],
             [
              0.8888888888888888,
              "#fdca26"
             ],
             [
              1,
              "#f0f921"
             ]
            ],
            "type": "histogram2dcontour"
           }
          ],
          "mesh3d": [
           {
            "colorbar": {
             "outlinewidth": 0,
             "ticks": ""
            },
            "type": "mesh3d"
           }
          ],
          "parcoords": [
           {
            "line": {
             "colorbar": {
              "outlinewidth": 0,
              "ticks": ""
             }
            },
            "type": "parcoords"
           }
          ],
          "pie": [
           {
            "automargin": true,
            "type": "pie"
           }
          ],
          "scatter": [
           {
            "fillpattern": {
             "fillmode": "overlay",
             "size": 10,
             "solidity": 0.2
            },
            "type": "scatter"
           }
          ],
          "scatter3d": [
           {
            "line": {
             "colorbar": {
              "outlinewidth": 0,
              "ticks": ""
             }
            },
            "marker": {
             "colorbar": {
              "outlinewidth": 0,
              "ticks": ""
             }
            },
            "type": "scatter3d"
           }
          ],
          "scattercarpet": [
           {
            "marker": {
             "colorbar": {
              "outlinewidth": 0,
              "ticks": ""
             }
            },
            "type": "scattercarpet"
           }
          ],
          "scattergeo": [
           {
            "marker": {
             "colorbar": {
              "outlinewidth": 0,
              "ticks": ""
             }
            },
            "type": "scattergeo"
           }
          ],
          "scattergl": [
           {
            "marker": {
             "colorbar": {
              "outlinewidth": 0,
              "ticks": ""
             }
            },
            "type": "scattergl"
           }
          ],
          "scattermapbox": [
           {
            "marker": {
             "colorbar": {
              "outlinewidth": 0,
              "ticks": ""
             }
            },
            "type": "scattermapbox"
           }
          ],
          "scatterpolar": [
           {
            "marker": {
             "colorbar": {
              "outlinewidth": 0,
              "ticks": ""
             }
            },
            "type": "scatterpolar"
           }
          ],
          "scatterpolargl": [
           {
            "marker": {
             "colorbar": {
              "outlinewidth": 0,
              "ticks": ""
             }
            },
            "type": "scatterpolargl"
           }
          ],
          "scatterternary": [
           {
            "marker": {
             "colorbar": {
              "outlinewidth": 0,
              "ticks": ""
             }
            },
            "type": "scatterternary"
           }
          ],
          "surface": [
           {
            "colorbar": {
             "outlinewidth": 0,
             "ticks": ""
            },
            "colorscale": [
             [
              0,
              "#0d0887"
             ],
             [
              0.1111111111111111,
              "#46039f"
             ],
             [
              0.2222222222222222,
              "#7201a8"
             ],
             [
              0.3333333333333333,
              "#9c179e"
             ],
             [
              0.4444444444444444,
              "#bd3786"
             ],
             [
              0.5555555555555556,
              "#d8576b"
             ],
             [
              0.6666666666666666,
              "#ed7953"
             ],
             [
              0.7777777777777778,
              "#fb9f3a"
             ],
             [
              0.8888888888888888,
              "#fdca26"
             ],
             [
              1,
              "#f0f921"
             ]
            ],
            "type": "surface"
           }
          ],
          "table": [
           {
            "cells": {
             "fill": {
              "color": "#EBF0F8"
             },
             "line": {
              "color": "white"
             }
            },
            "header": {
             "fill": {
              "color": "#C8D4E3"
             },
             "line": {
              "color": "white"
             }
            },
            "type": "table"
           }
          ]
         },
         "layout": {
          "annotationdefaults": {
           "arrowcolor": "#2a3f5f",
           "arrowhead": 0,
           "arrowwidth": 1
          },
          "autotypenumbers": "strict",
          "coloraxis": {
           "colorbar": {
            "outlinewidth": 0,
            "ticks": ""
           }
          },
          "colorscale": {
           "diverging": [
            [
             0,
             "#8e0152"
            ],
            [
             0.1,
             "#c51b7d"
            ],
            [
             0.2,
             "#de77ae"
            ],
            [
             0.3,
             "#f1b6da"
            ],
            [
             0.4,
             "#fde0ef"
            ],
            [
             0.5,
             "#f7f7f7"
            ],
            [
             0.6,
             "#e6f5d0"
            ],
            [
             0.7,
             "#b8e186"
            ],
            [
             0.8,
             "#7fbc41"
            ],
            [
             0.9,
             "#4d9221"
            ],
            [
             1,
             "#276419"
            ]
           ],
           "sequential": [
            [
             0,
             "#0d0887"
            ],
            [
             0.1111111111111111,
             "#46039f"
            ],
            [
             0.2222222222222222,
             "#7201a8"
            ],
            [
             0.3333333333333333,
             "#9c179e"
            ],
            [
             0.4444444444444444,
             "#bd3786"
            ],
            [
             0.5555555555555556,
             "#d8576b"
            ],
            [
             0.6666666666666666,
             "#ed7953"
            ],
            [
             0.7777777777777778,
             "#fb9f3a"
            ],
            [
             0.8888888888888888,
             "#fdca26"
            ],
            [
             1,
             "#f0f921"
            ]
           ],
           "sequentialminus": [
            [
             0,
             "#0d0887"
            ],
            [
             0.1111111111111111,
             "#46039f"
            ],
            [
             0.2222222222222222,
             "#7201a8"
            ],
            [
             0.3333333333333333,
             "#9c179e"
            ],
            [
             0.4444444444444444,
             "#bd3786"
            ],
            [
             0.5555555555555556,
             "#d8576b"
            ],
            [
             0.6666666666666666,
             "#ed7953"
            ],
            [
             0.7777777777777778,
             "#fb9f3a"
            ],
            [
             0.8888888888888888,
             "#fdca26"
            ],
            [
             1,
             "#f0f921"
            ]
           ]
          },
          "colorway": [
           "#636efa",
           "#EF553B",
           "#00cc96",
           "#ab63fa",
           "#FFA15A",
           "#19d3f3",
           "#FF6692",
           "#B6E880",
           "#FF97FF",
           "#FECB52"
          ],
          "font": {
           "color": "#2a3f5f"
          },
          "geo": {
           "bgcolor": "white",
           "lakecolor": "white",
           "landcolor": "#E5ECF6",
           "showlakes": true,
           "showland": true,
           "subunitcolor": "white"
          },
          "hoverlabel": {
           "align": "left"
          },
          "hovermode": "closest",
          "mapbox": {
           "style": "light"
          },
          "paper_bgcolor": "white",
          "plot_bgcolor": "#E5ECF6",
          "polar": {
           "angularaxis": {
            "gridcolor": "white",
            "linecolor": "white",
            "ticks": ""
           },
           "bgcolor": "#E5ECF6",
           "radialaxis": {
            "gridcolor": "white",
            "linecolor": "white",
            "ticks": ""
           }
          },
          "scene": {
           "xaxis": {
            "backgroundcolor": "#E5ECF6",
            "gridcolor": "white",
            "gridwidth": 2,
            "linecolor": "white",
            "showbackground": true,
            "ticks": "",
            "zerolinecolor": "white"
           },
           "yaxis": {
            "backgroundcolor": "#E5ECF6",
            "gridcolor": "white",
            "gridwidth": 2,
            "linecolor": "white",
            "showbackground": true,
            "ticks": "",
            "zerolinecolor": "white"
           },
           "zaxis": {
            "backgroundcolor": "#E5ECF6",
            "gridcolor": "white",
            "gridwidth": 2,
            "linecolor": "white",
            "showbackground": true,
            "ticks": "",
            "zerolinecolor": "white"
           }
          },
          "shapedefaults": {
           "line": {
            "color": "#2a3f5f"
           }
          },
          "ternary": {
           "aaxis": {
            "gridcolor": "white",
            "linecolor": "white",
            "ticks": ""
           },
           "baxis": {
            "gridcolor": "white",
            "linecolor": "white",
            "ticks": ""
           },
           "bgcolor": "#E5ECF6",
           "caxis": {
            "gridcolor": "white",
            "linecolor": "white",
            "ticks": ""
           }
          },
          "title": {
           "x": 0.05
          },
          "xaxis": {
           "automargin": true,
           "gridcolor": "white",
           "linecolor": "white",
           "ticks": "",
           "title": {
            "standoff": 15
           },
           "zerolinecolor": "white",
           "zerolinewidth": 2
          },
          "yaxis": {
           "automargin": true,
           "gridcolor": "white",
           "linecolor": "white",
           "ticks": "",
           "title": {
            "standoff": 15
           },
           "zerolinecolor": "white",
           "zerolinewidth": 2
          }
         }
        },
        "title": {
         "text": "Sales Person Wise Sales and Deposit (2025-06-01 to 2025-06-14)"
        },
        "xaxis": {
         "anchor": "y",
         "domain": [
          0,
          1
         ],
         "tickangle": -45,
         "title": {
          "text": "Sales Executive"
         }
        },
        "yaxis": {
         "anchor": "x",
         "domain": [
          0,
          1
         ],
         "title": {
          "text": "Amount (BDT)"
         }
        }
       }
      }
     },
     "metadata": {},
     "output_type": "display_data"
    }
   ],
   "source": [
    "# Sales person wise sales and deposit bar chart for a date range\n",
    "\n",
    "import plotly.express as px\n",
    "\n",
    "# Set your date range\n",
    "start_date = \"2025-06-01\"  # Change as needed\n",
    "end_date = \"2025-06-14\"    # Change as needed\n",
    "\n",
    "# Make sure 'date' column is datetime\n",
    "df['date'] = pd.to_datetime(df['date'])\n",
    "\n",
    "# Filter data for the date range\n",
    "mask = (df[\"date\"] >= pd.to_datetime(start_date)) & (df[\"date\"] <= pd.to_datetime(end_date))\n",
    "filtered_df = df[mask]\n",
    "\n",
    "# Group by sales executive and sum sales and deposit\n",
    "summary = filtered_df.groupby(\"sales_executive\")[[\"sales_amount\", \"paid_amount\"]].sum().reset_index()\n",
    "\n",
    "# Melt for grouped bar chart\n",
    "summary_melted = summary.melt(id_vars=\"sales_executive\", value_vars=[\"sales_amount\", \"paid_amount\"],\n",
    "                              var_name=\"Type\", value_name=\"Amount\")\n",
    "\n",
    "# Plot\n",
    "fig = px.bar(\n",
    "    summary_melted,\n",
    "    x=\"sales_executive\",\n",
    "    y=\"Amount\",\n",
    "    color=\"Type\",\n",
    "    barmode=\"group\",\n",
    "    title=f\"Sales Person Wise Sales and Deposit ({start_date} to {end_date})\",\n",
    "    labels={\"sales_executive\": \"Sales Executive\", \"Amount\": \"Amount (BDT)\"}\n",
    ")\n",
    "fig.update_layout(xaxis_tickangle=-45)\n",
    "fig.show()"
   ]
  },
  {
   "cell_type": "code",
   "execution_count": 20,
   "id": "6468e731",
   "metadata": {},
   "outputs": [
    {
     "name": "stdout",
     "output_type": "stream",
     "text": [
      "        sales_executive                   customer_name  open_value  \\\n",
      "0        ATM Nur Hossan                 Emon Enterprise        0.00   \n",
      "1        ATM Nur Hossan                 Ruma Enterprise        0.00   \n",
      "2     Al - Amin Mortoza            AL - AKSA Crockeries    22001.00   \n",
      "3     Al - Amin Mortoza               Anondo Crockeries     2548.25   \n",
      "4     Al - Amin Mortoza               Foysal Enterprise     5733.00   \n",
      "..                  ...                             ...         ...   \n",
      "64  Zahidul Islam Jewel  Abdul Khaleque Varietise Store    52337.20   \n",
      "65  Zahidul Islam Jewel   Amanat Enterprise / New azmir       47.02   \n",
      "66  Zahidul Islam Jewel                 Emon Enterprise   637508.50   \n",
      "67  Zahidul Islam Jewel                   Fashion House    17544.25   \n",
      "68  Zahidul Islam Jewel                 Ruma Enterprise    24443.50   \n",
      "\n",
      "    sales_amount  paid_amount  sales_return  customer_cashback_on_paid_amount  \\\n",
      "0       109150.2          0.0           0.0                               0.0   \n",
      "1         5712.0          0.0           0.0                               0.0   \n",
      "2            0.0       5000.0           0.0                               0.0   \n",
      "3            0.0          0.0           0.0                               0.0   \n",
      "4            0.0       5733.0           0.0                               0.0   \n",
      "..           ...          ...           ...                               ...   \n",
      "64           0.0          0.0           0.0                               0.0   \n",
      "65           0.0          0.0           0.0                               0.0   \n",
      "66           0.0      60000.0           0.0                            1200.0   \n",
      "67           0.0       9000.0           0.0                               0.0   \n",
      "68           0.0       7000.0           0.0                               0.0   \n",
      "\n",
      "    outstanding  \n",
      "0     109150.20  \n",
      "1       5712.00  \n",
      "2      17001.00  \n",
      "3       2548.25  \n",
      "4          0.00  \n",
      "..          ...  \n",
      "64     52337.20  \n",
      "65        47.02  \n",
      "66    576308.50  \n",
      "67      8544.25  \n",
      "68     17443.50  \n",
      "\n",
      "[69 rows x 8 columns]\n"
     ]
    }
   ],
   "source": [
    "# Executive-wise, customer-wise sales, deposit, and outstanding\n",
    "\n",
    "# Make sure 'date' column is datetime\n",
    "df['date'] = pd.to_datetime(df['date'])\n",
    "\n",
    "# Calculate outstanding for each row\n",
    "df[\"outstanding\"] = (\n",
    "    df[\"open_value\"].fillna(0) +\n",
    "    df[\"sales_amount\"].fillna(0) -\n",
    "    df[\"paid_amount\"].fillna(0) -\n",
    "    df[\"sales_return\"].fillna(0) -\n",
    "    df[\"customer_cashback_on_paid_amount\"].fillna(0)\n",
    ")\n",
    "\n",
    "# Group by executive and customer\n",
    "summary = df.groupby([\"sales_executive\", \"customer_name\"]).agg({\n",
    "    \"open_value\": \"sum\",\n",
    "    \"sales_amount\": \"sum\",\n",
    "    \"paid_amount\": \"sum\",\n",
    "    \"sales_return\": \"sum\",\n",
    "    \"customer_cashback_on_paid_amount\": \"sum\",\n",
    "    \"outstanding\": \"sum\"\n",
    "}).reset_index()\n",
    "\n",
    "print(summary)"
   ]
  },
  {
   "cell_type": "code",
   "execution_count": 21,
   "id": "6fb17218",
   "metadata": {},
   "outputs": [
    {
     "name": "stdout",
     "output_type": "stream",
     "text": [
      "              customer_name  open_value  sales_amount  paid_amount  \\\n",
      "0     Articuler Corporation     -101.00          0.00          0.0   \n",
      "1      Bissmillah Aluminium    15596.00          0.00          0.0   \n",
      "2        Friends Crockeries    28594.00          0.00          0.0   \n",
      "3         Gazi and brothers       17.94          0.00          0.0   \n",
      "4        Grameen Crockeries        0.00          0.00          0.0   \n",
      "5                MA Trading        0.00          0.00      18600.0   \n",
      "6                Ma Trading    18760.55      40367.05      40000.0   \n",
      "7        Mohammadia Trading    18298.90          0.00          0.0   \n",
      "8   One to ninety-nine Shop     8177.25          0.00          0.0   \n",
      "9               Raisa Store      163.60          0.00          0.0   \n",
      "10         Rintu Enterprise        0.00      79244.00          0.0   \n",
      "11           S.E Enterprise        0.00      44208.00          0.0   \n",
      "12       Sajid and brothers      -32.50          0.00          0.0   \n",
      "13       Suruchi Enterprise        0.00      45492.00          0.0   \n",
      "14        Sylhet Enterprise    14297.00          0.00          0.0   \n",
      "\n",
      "    sales_return  customer_cashback_on_paid_amount  outstanding  \n",
      "0            0.0                               0.0      -101.00  \n",
      "1            0.0                               0.0     15596.00  \n",
      "2            0.0                               0.0     28594.00  \n",
      "3            0.0                               0.0        17.94  \n",
      "4            0.0                               0.0         0.00  \n",
      "5            0.0                               0.0    -18600.00  \n",
      "6            0.0                               0.0     19127.60  \n",
      "7            0.0                               0.0     18298.90  \n",
      "8            0.0                               0.0      8177.25  \n",
      "9            0.0                               0.0       163.60  \n",
      "10           0.0                               0.0     79244.00  \n",
      "11           0.0                               0.0     44208.00  \n",
      "12           0.0                               0.0       -32.50  \n",
      "13           0.0                               0.0     45492.00  \n",
      "14        2694.5                               0.0     11602.50  \n"
     ]
    }
   ],
   "source": [
    "# Specify the executive\n",
    "executive_name = \"Yousuf Mazumder Anik\"  # Change as needed\n",
    "\n",
    "# Filter for the executive\n",
    "executive_df = df[df[\"sales_executive\"] == executive_name].copy()\n",
    "\n",
    "# Calculate outstanding for each row if not already present\n",
    "executive_df[\"outstanding\"] = (\n",
    "    executive_df[\"open_value\"].fillna(0) +\n",
    "    executive_df[\"sales_amount\"].fillna(0) -\n",
    "    executive_df[\"paid_amount\"].fillna(0) -\n",
    "    executive_df[\"sales_return\"].fillna(0) -\n",
    "    executive_df[\"customer_cashback_on_paid_amount\"].fillna(0)\n",
    ")\n",
    "\n",
    "# Group by customer and sum relevant columns\n",
    "customer_summary = executive_df.groupby(\"customer_name\").agg({\n",
    "    \"open_value\": \"sum\",\n",
    "    \"sales_amount\": \"sum\",\n",
    "    \"paid_amount\": \"sum\",\n",
    "    \"sales_return\": \"sum\",\n",
    "    \"customer_cashback_on_paid_amount\": \"sum\",\n",
    "    \"outstanding\": \"sum\"\n",
    "}).reset_index()\n",
    "\n",
    "print(customer_summary)"
   ]
  },
  {
   "cell_type": "code",
   "execution_count": 22,
   "id": "c9124d81",
   "metadata": {},
   "outputs": [
    {
     "data": {
      "application/vnd.plotly.v1+json": {
       "config": {
        "plotlyServerURL": "https://plot.ly"
       },
       "data": [
        {
         "alignmentgroup": "True",
         "hovertemplate": "variable=sales_amount<br>Customer=%{x}<br>Amount (BDT)=%{y}<extra></extra>",
         "legendgroup": "sales_amount",
         "marker": {
          "color": "#636efa",
          "pattern": {
           "shape": ""
          }
         },
         "name": "sales_amount",
         "offsetgroup": "sales_amount",
         "orientation": "v",
         "showlegend": true,
         "textposition": "auto",
         "type": "bar",
         "x": [
          "Articuler Corporation",
          "Bissmillah Aluminium",
          "Friends Crockeries",
          "Gazi and brothers",
          "Grameen Crockeries",
          "MA Trading",
          "Ma Trading",
          "Mohammadia Trading",
          "One to ninety-nine Shop",
          "Raisa Store",
          "Rintu Enterprise",
          "S.E Enterprise",
          "Sajid and brothers",
          "Suruchi Enterprise",
          "Sylhet Enterprise"
         ],
         "xaxis": "x",
         "y": [
          0,
          0,
          0,
          0,
          0,
          0,
          40367.05,
          0,
          0,
          0,
          79244,
          44208,
          0,
          45492,
          0
         ],
         "yaxis": "y"
        },
        {
         "alignmentgroup": "True",
         "hovertemplate": "variable=paid_amount<br>Customer=%{x}<br>Amount (BDT)=%{y}<extra></extra>",
         "legendgroup": "paid_amount",
         "marker": {
          "color": "#EF553B",
          "pattern": {
           "shape": ""
          }
         },
         "name": "paid_amount",
         "offsetgroup": "paid_amount",
         "orientation": "v",
         "showlegend": true,
         "textposition": "auto",
         "type": "bar",
         "x": [
          "Articuler Corporation",
          "Bissmillah Aluminium",
          "Friends Crockeries",
          "Gazi and brothers",
          "Grameen Crockeries",
          "MA Trading",
          "Ma Trading",
          "Mohammadia Trading",
          "One to ninety-nine Shop",
          "Raisa Store",
          "Rintu Enterprise",
          "S.E Enterprise",
          "Sajid and brothers",
          "Suruchi Enterprise",
          "Sylhet Enterprise"
         ],
         "xaxis": "x",
         "y": [
          0,
          0,
          0,
          0,
          0,
          18600,
          40000,
          0,
          0,
          0,
          0,
          0,
          0,
          0,
          0
         ],
         "yaxis": "y"
        },
        {
         "alignmentgroup": "True",
         "hovertemplate": "variable=outstanding<br>Customer=%{x}<br>Amount (BDT)=%{y}<extra></extra>",
         "legendgroup": "outstanding",
         "marker": {
          "color": "#00cc96",
          "pattern": {
           "shape": ""
          }
         },
         "name": "outstanding",
         "offsetgroup": "outstanding",
         "orientation": "v",
         "showlegend": true,
         "textposition": "auto",
         "type": "bar",
         "x": [
          "Articuler Corporation",
          "Bissmillah Aluminium",
          "Friends Crockeries",
          "Gazi and brothers",
          "Grameen Crockeries",
          "MA Trading",
          "Ma Trading",
          "Mohammadia Trading",
          "One to ninety-nine Shop",
          "Raisa Store",
          "Rintu Enterprise",
          "S.E Enterprise",
          "Sajid and brothers",
          "Suruchi Enterprise",
          "Sylhet Enterprise"
         ],
         "xaxis": "x",
         "y": [
          -101,
          15596,
          28594,
          17.94,
          0,
          -18600,
          19127.600000000006,
          18298.9,
          8177.25,
          163.6,
          79244,
          44208,
          -32.5,
          45492,
          11602.5
         ],
         "yaxis": "y"
        }
       ],
       "layout": {
        "barmode": "group",
        "legend": {
         "title": {
          "text": "variable"
         },
         "tracegroupgap": 0
        },
        "template": {
         "data": {
          "bar": [
           {
            "error_x": {
             "color": "#2a3f5f"
            },
            "error_y": {
             "color": "#2a3f5f"
            },
            "marker": {
             "line": {
              "color": "#E5ECF6",
              "width": 0.5
             },
             "pattern": {
              "fillmode": "overlay",
              "size": 10,
              "solidity": 0.2
             }
            },
            "type": "bar"
           }
          ],
          "barpolar": [
           {
            "marker": {
             "line": {
              "color": "#E5ECF6",
              "width": 0.5
             },
             "pattern": {
              "fillmode": "overlay",
              "size": 10,
              "solidity": 0.2
             }
            },
            "type": "barpolar"
           }
          ],
          "carpet": [
           {
            "aaxis": {
             "endlinecolor": "#2a3f5f",
             "gridcolor": "white",
             "linecolor": "white",
             "minorgridcolor": "white",
             "startlinecolor": "#2a3f5f"
            },
            "baxis": {
             "endlinecolor": "#2a3f5f",
             "gridcolor": "white",
             "linecolor": "white",
             "minorgridcolor": "white",
             "startlinecolor": "#2a3f5f"
            },
            "type": "carpet"
           }
          ],
          "choropleth": [
           {
            "colorbar": {
             "outlinewidth": 0,
             "ticks": ""
            },
            "type": "choropleth"
           }
          ],
          "contour": [
           {
            "colorbar": {
             "outlinewidth": 0,
             "ticks": ""
            },
            "colorscale": [
             [
              0,
              "#0d0887"
             ],
             [
              0.1111111111111111,
              "#46039f"
             ],
             [
              0.2222222222222222,
              "#7201a8"
             ],
             [
              0.3333333333333333,
              "#9c179e"
             ],
             [
              0.4444444444444444,
              "#bd3786"
             ],
             [
              0.5555555555555556,
              "#d8576b"
             ],
             [
              0.6666666666666666,
              "#ed7953"
             ],
             [
              0.7777777777777778,
              "#fb9f3a"
             ],
             [
              0.8888888888888888,
              "#fdca26"
             ],
             [
              1,
              "#f0f921"
             ]
            ],
            "type": "contour"
           }
          ],
          "contourcarpet": [
           {
            "colorbar": {
             "outlinewidth": 0,
             "ticks": ""
            },
            "type": "contourcarpet"
           }
          ],
          "heatmap": [
           {
            "colorbar": {
             "outlinewidth": 0,
             "ticks": ""
            },
            "colorscale": [
             [
              0,
              "#0d0887"
             ],
             [
              0.1111111111111111,
              "#46039f"
             ],
             [
              0.2222222222222222,
              "#7201a8"
             ],
             [
              0.3333333333333333,
              "#9c179e"
             ],
             [
              0.4444444444444444,
              "#bd3786"
             ],
             [
              0.5555555555555556,
              "#d8576b"
             ],
             [
              0.6666666666666666,
              "#ed7953"
             ],
             [
              0.7777777777777778,
              "#fb9f3a"
             ],
             [
              0.8888888888888888,
              "#fdca26"
             ],
             [
              1,
              "#f0f921"
             ]
            ],
            "type": "heatmap"
           }
          ],
          "heatmapgl": [
           {
            "colorbar": {
             "outlinewidth": 0,
             "ticks": ""
            },
            "colorscale": [
             [
              0,
              "#0d0887"
             ],
             [
              0.1111111111111111,
              "#46039f"
             ],
             [
              0.2222222222222222,
              "#7201a8"
             ],
             [
              0.3333333333333333,
              "#9c179e"
             ],
             [
              0.4444444444444444,
              "#bd3786"
             ],
             [
              0.5555555555555556,
              "#d8576b"
             ],
             [
              0.6666666666666666,
              "#ed7953"
             ],
             [
              0.7777777777777778,
              "#fb9f3a"
             ],
             [
              0.8888888888888888,
              "#fdca26"
             ],
             [
              1,
              "#f0f921"
             ]
            ],
            "type": "heatmapgl"
           }
          ],
          "histogram": [
           {
            "marker": {
             "pattern": {
              "fillmode": "overlay",
              "size": 10,
              "solidity": 0.2
             }
            },
            "type": "histogram"
           }
          ],
          "histogram2d": [
           {
            "colorbar": {
             "outlinewidth": 0,
             "ticks": ""
            },
            "colorscale": [
             [
              0,
              "#0d0887"
             ],
             [
              0.1111111111111111,
              "#46039f"
             ],
             [
              0.2222222222222222,
              "#7201a8"
             ],
             [
              0.3333333333333333,
              "#9c179e"
             ],
             [
              0.4444444444444444,
              "#bd3786"
             ],
             [
              0.5555555555555556,
              "#d8576b"
             ],
             [
              0.6666666666666666,
              "#ed7953"
             ],
             [
              0.7777777777777778,
              "#fb9f3a"
             ],
             [
              0.8888888888888888,
              "#fdca26"
             ],
             [
              1,
              "#f0f921"
             ]
            ],
            "type": "histogram2d"
           }
          ],
          "histogram2dcontour": [
           {
            "colorbar": {
             "outlinewidth": 0,
             "ticks": ""
            },
            "colorscale": [
             [
              0,
              "#0d0887"
             ],
             [
              0.1111111111111111,
              "#46039f"
             ],
             [
              0.2222222222222222,
              "#7201a8"
             ],
             [
              0.3333333333333333,
              "#9c179e"
             ],
             [
              0.4444444444444444,
              "#bd3786"
             ],
             [
              0.5555555555555556,
              "#d8576b"
             ],
             [
              0.6666666666666666,
              "#ed7953"
             ],
             [
              0.7777777777777778,
              "#fb9f3a"
             ],
             [
              0.8888888888888888,
              "#fdca26"
             ],
             [
              1,
              "#f0f921"
             ]
            ],
            "type": "histogram2dcontour"
           }
          ],
          "mesh3d": [
           {
            "colorbar": {
             "outlinewidth": 0,
             "ticks": ""
            },
            "type": "mesh3d"
           }
          ],
          "parcoords": [
           {
            "line": {
             "colorbar": {
              "outlinewidth": 0,
              "ticks": ""
             }
            },
            "type": "parcoords"
           }
          ],
          "pie": [
           {
            "automargin": true,
            "type": "pie"
           }
          ],
          "scatter": [
           {
            "fillpattern": {
             "fillmode": "overlay",
             "size": 10,
             "solidity": 0.2
            },
            "type": "scatter"
           }
          ],
          "scatter3d": [
           {
            "line": {
             "colorbar": {
              "outlinewidth": 0,
              "ticks": ""
             }
            },
            "marker": {
             "colorbar": {
              "outlinewidth": 0,
              "ticks": ""
             }
            },
            "type": "scatter3d"
           }
          ],
          "scattercarpet": [
           {
            "marker": {
             "colorbar": {
              "outlinewidth": 0,
              "ticks": ""
             }
            },
            "type": "scattercarpet"
           }
          ],
          "scattergeo": [
           {
            "marker": {
             "colorbar": {
              "outlinewidth": 0,
              "ticks": ""
             }
            },
            "type": "scattergeo"
           }
          ],
          "scattergl": [
           {
            "marker": {
             "colorbar": {
              "outlinewidth": 0,
              "ticks": ""
             }
            },
            "type": "scattergl"
           }
          ],
          "scattermapbox": [
           {
            "marker": {
             "colorbar": {
              "outlinewidth": 0,
              "ticks": ""
             }
            },
            "type": "scattermapbox"
           }
          ],
          "scatterpolar": [
           {
            "marker": {
             "colorbar": {
              "outlinewidth": 0,
              "ticks": ""
             }
            },
            "type": "scatterpolar"
           }
          ],
          "scatterpolargl": [
           {
            "marker": {
             "colorbar": {
              "outlinewidth": 0,
              "ticks": ""
             }
            },
            "type": "scatterpolargl"
           }
          ],
          "scatterternary": [
           {
            "marker": {
             "colorbar": {
              "outlinewidth": 0,
              "ticks": ""
             }
            },
            "type": "scatterternary"
           }
          ],
          "surface": [
           {
            "colorbar": {
             "outlinewidth": 0,
             "ticks": ""
            },
            "colorscale": [
             [
              0,
              "#0d0887"
             ],
             [
              0.1111111111111111,
              "#46039f"
             ],
             [
              0.2222222222222222,
              "#7201a8"
             ],
             [
              0.3333333333333333,
              "#9c179e"
             ],
             [
              0.4444444444444444,
              "#bd3786"
             ],
             [
              0.5555555555555556,
              "#d8576b"
             ],
             [
              0.6666666666666666,
              "#ed7953"
             ],
             [
              0.7777777777777778,
              "#fb9f3a"
             ],
             [
              0.8888888888888888,
              "#fdca26"
             ],
             [
              1,
              "#f0f921"
             ]
            ],
            "type": "surface"
           }
          ],
          "table": [
           {
            "cells": {
             "fill": {
              "color": "#EBF0F8"
             },
             "line": {
              "color": "white"
             }
            },
            "header": {
             "fill": {
              "color": "#C8D4E3"
             },
             "line": {
              "color": "white"
             }
            },
            "type": "table"
           }
          ]
         },
         "layout": {
          "annotationdefaults": {
           "arrowcolor": "#2a3f5f",
           "arrowhead": 0,
           "arrowwidth": 1
          },
          "autotypenumbers": "strict",
          "coloraxis": {
           "colorbar": {
            "outlinewidth": 0,
            "ticks": ""
           }
          },
          "colorscale": {
           "diverging": [
            [
             0,
             "#8e0152"
            ],
            [
             0.1,
             "#c51b7d"
            ],
            [
             0.2,
             "#de77ae"
            ],
            [
             0.3,
             "#f1b6da"
            ],
            [
             0.4,
             "#fde0ef"
            ],
            [
             0.5,
             "#f7f7f7"
            ],
            [
             0.6,
             "#e6f5d0"
            ],
            [
             0.7,
             "#b8e186"
            ],
            [
             0.8,
             "#7fbc41"
            ],
            [
             0.9,
             "#4d9221"
            ],
            [
             1,
             "#276419"
            ]
           ],
           "sequential": [
            [
             0,
             "#0d0887"
            ],
            [
             0.1111111111111111,
             "#46039f"
            ],
            [
             0.2222222222222222,
             "#7201a8"
            ],
            [
             0.3333333333333333,
             "#9c179e"
            ],
            [
             0.4444444444444444,
             "#bd3786"
            ],
            [
             0.5555555555555556,
             "#d8576b"
            ],
            [
             0.6666666666666666,
             "#ed7953"
            ],
            [
             0.7777777777777778,
             "#fb9f3a"
            ],
            [
             0.8888888888888888,
             "#fdca26"
            ],
            [
             1,
             "#f0f921"
            ]
           ],
           "sequentialminus": [
            [
             0,
             "#0d0887"
            ],
            [
             0.1111111111111111,
             "#46039f"
            ],
            [
             0.2222222222222222,
             "#7201a8"
            ],
            [
             0.3333333333333333,
             "#9c179e"
            ],
            [
             0.4444444444444444,
             "#bd3786"
            ],
            [
             0.5555555555555556,
             "#d8576b"
            ],
            [
             0.6666666666666666,
             "#ed7953"
            ],
            [
             0.7777777777777778,
             "#fb9f3a"
            ],
            [
             0.8888888888888888,
             "#fdca26"
            ],
            [
             1,
             "#f0f921"
            ]
           ]
          },
          "colorway": [
           "#636efa",
           "#EF553B",
           "#00cc96",
           "#ab63fa",
           "#FFA15A",
           "#19d3f3",
           "#FF6692",
           "#B6E880",
           "#FF97FF",
           "#FECB52"
          ],
          "font": {
           "color": "#2a3f5f"
          },
          "geo": {
           "bgcolor": "white",
           "lakecolor": "white",
           "landcolor": "#E5ECF6",
           "showlakes": true,
           "showland": true,
           "subunitcolor": "white"
          },
          "hoverlabel": {
           "align": "left"
          },
          "hovermode": "closest",
          "mapbox": {
           "style": "light"
          },
          "paper_bgcolor": "white",
          "plot_bgcolor": "#E5ECF6",
          "polar": {
           "angularaxis": {
            "gridcolor": "white",
            "linecolor": "white",
            "ticks": ""
           },
           "bgcolor": "#E5ECF6",
           "radialaxis": {
            "gridcolor": "white",
            "linecolor": "white",
            "ticks": ""
           }
          },
          "scene": {
           "xaxis": {
            "backgroundcolor": "#E5ECF6",
            "gridcolor": "white",
            "gridwidth": 2,
            "linecolor": "white",
            "showbackground": true,
            "ticks": "",
            "zerolinecolor": "white"
           },
           "yaxis": {
            "backgroundcolor": "#E5ECF6",
            "gridcolor": "white",
            "gridwidth": 2,
            "linecolor": "white",
            "showbackground": true,
            "ticks": "",
            "zerolinecolor": "white"
           },
           "zaxis": {
            "backgroundcolor": "#E5ECF6",
            "gridcolor": "white",
            "gridwidth": 2,
            "linecolor": "white",
            "showbackground": true,
            "ticks": "",
            "zerolinecolor": "white"
           }
          },
          "shapedefaults": {
           "line": {
            "color": "#2a3f5f"
           }
          },
          "ternary": {
           "aaxis": {
            "gridcolor": "white",
            "linecolor": "white",
            "ticks": ""
           },
           "baxis": {
            "gridcolor": "white",
            "linecolor": "white",
            "ticks": ""
           },
           "bgcolor": "#E5ECF6",
           "caxis": {
            "gridcolor": "white",
            "linecolor": "white",
            "ticks": ""
           }
          },
          "title": {
           "x": 0.05
          },
          "xaxis": {
           "automargin": true,
           "gridcolor": "white",
           "linecolor": "white",
           "ticks": "",
           "title": {
            "standoff": 15
           },
           "zerolinecolor": "white",
           "zerolinewidth": 2
          },
          "yaxis": {
           "automargin": true,
           "gridcolor": "white",
           "linecolor": "white",
           "ticks": "",
           "title": {
            "standoff": 15
           },
           "zerolinecolor": "white",
           "zerolinewidth": 2
          }
         }
        },
        "title": {
         "text": "Customer-wise Sales, Deposit, and Outstanding for Yousuf Mazumder Anik"
        },
        "xaxis": {
         "anchor": "y",
         "domain": [
          0,
          1
         ],
         "tickangle": -45,
         "title": {
          "text": "Customer"
         }
        },
        "yaxis": {
         "anchor": "x",
         "domain": [
          0,
          1
         ],
         "title": {
          "text": "Amount (BDT)"
         }
        }
       }
      }
     },
     "metadata": {},
     "output_type": "display_data"
    }
   ],
   "source": [
    "# Plotting the executive-wise, customer-wise sales, deposit, and outstanding\n",
    "\n",
    "\n",
    "import plotly.express as px\n",
    "\n",
    "# Use the customer_summary DataFrame from previous step\n",
    "# Example: Plot sales_amount for each customer of the executive\n",
    "\n",
    "fig = px.bar(\n",
    "    customer_summary,\n",
    "    x=\"customer_name\",\n",
    "    y=[\"sales_amount\", \"paid_amount\", \"outstanding\"],\n",
    "    barmode=\"group\",\n",
    "    title=f\"Customer-wise Sales, Deposit, and Outstanding for {executive_name}\",\n",
    "    labels={\"value\": \"Amount (BDT)\", \"customer_name\": \"Customer\"}\n",
    ")\n",
    "fig.update_layout(xaxis_tickangle=-45)\n",
    "fig.show()"
   ]
  },
  {
   "cell_type": "code",
   "execution_count": 23,
   "id": "d95f20eb",
   "metadata": {},
   "outputs": [
    {
     "name": "stdout",
     "output_type": "stream",
     "text": [
      "          date order_no customer_type        customer_name  \\\n",
      "0   2025-06-01     NONE   Retail Shop  Jhenaida Enterprise   \n",
      "81  2025-06-04      NaN   Retail Shop  Jhenaida Enterprise   \n",
      "91  2025-06-14      NaN   Retail Shop  Jhenaida Enterprise   \n",
      "102 2025-06-18      NaN   Retail Shop  Jhenaida Enterprise   \n",
      "\n",
      "          sales_executive  open_value  sales_amount  sales_return  \\\n",
      "0    Jahirul Hoque Pranto     7287.91           0.0           0.0   \n",
      "81   Jahirul Hoque Pranto        0.00           0.0           0.0   \n",
      "91   Jahirul Hoque Pranto        0.00       21721.1           0.0   \n",
      "102  Jahirul Hoque Pranto        0.00           0.0           0.0   \n",
      "\n",
      "     paid_amount  customer_cashback_on_paid_amount  sales_ex_commission  \\\n",
      "0            0.0                               0.0                  0.0   \n",
      "81        4000.0                               NaN                 40.0   \n",
      "91           0.0                               0.0                  0.0   \n",
      "102       3200.0                               NaN                 32.0   \n",
      "\n",
      "     Zonal_officer_commission  gm_commission  company_profit  \\\n",
      "0                         0.0            0.0             0.0   \n",
      "81                       12.0            8.0           200.0   \n",
      "91                        0.0            0.0             0.0   \n",
      "102                       9.6            6.4           160.0   \n",
      "\n",
      "     executive_commission  zonal_officer_commission Order No  \\\n",
      "0                     NaN                       NaN      NaN   \n",
      "81                    NaN                       NaN      NaN   \n",
      "91                    NaN                       NaN      NaN   \n",
      "102                   NaN                       NaN      NaN   \n",
      "\n",
      "     current_outstanding  customer_current_outstanding  outstanding  \n",
      "0                7287.91                       7287.91      7287.91  \n",
      "81                  0.00                          0.00     -4000.00  \n",
      "91              21721.10                      21721.10     21721.10  \n",
      "102                 0.00                          0.00     -3200.00  \n",
      "\n",
      "Total Outstanding for Jhenaida Enterprise: 21809.01 BDT\n"
     ]
    }
   ],
   "source": [
    "# Get all transactions and total outstanding for a specific customer\n",
    "customer_name = \"Jhenaida Enterprise\"  # Replace with the actual customer name\n",
    "\n",
    "# Filter transactions for the customer\n",
    "customer_transactions = df[df[\"customer_name\"] == customer_name].copy()\n",
    "\n",
    "# Calculate outstanding for each transaction (if not already present)\n",
    "customer_transactions[\"outstanding\"] = (\n",
    "    customer_transactions[\"open_value\"].fillna(0) +\n",
    "    customer_transactions[\"sales_amount\"].fillna(0) -\n",
    "    customer_transactions[\"paid_amount\"].fillna(0) -\n",
    "    customer_transactions[\"sales_return\"].fillna(0) -\n",
    "    customer_transactions[\"customer_cashback_on_paid_amount\"].fillna(0)\n",
    ")\n",
    "\n",
    "# Show all transactions\n",
    "print(customer_transactions)\n",
    "\n",
    "# Show total outstanding for the customer\n",
    "total_outstanding = customer_transactions[\"outstanding\"].sum()\n",
    "print(f\"\\nTotal Outstanding for {customer_name}: {total_outstanding} BDT\")"
   ]
  },
  {
   "cell_type": "code",
   "execution_count": null,
   "id": "b01d4631",
   "metadata": {},
   "outputs": [],
   "source": []
  }
 ],
 "metadata": {
  "kernelspec": {
   "display_name": "base",
   "language": "python",
   "name": "python3"
  },
  "language_info": {
   "codemirror_mode": {
    "name": "ipython",
    "version": 3
   },
   "file_extension": ".py",
   "mimetype": "text/x-python",
   "name": "python",
   "nbconvert_exporter": "python",
   "pygments_lexer": "ipython3",
   "version": "3.12.7"
  }
 },
 "nbformat": 4,
 "nbformat_minor": 5
}
